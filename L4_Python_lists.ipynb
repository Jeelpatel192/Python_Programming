{
  "nbformat": 4,
  "nbformat_minor": 0,
  "metadata": {
    "colab": {
      "provenance": [],
      "authorship_tag": "ABX9TyOxlN3v8MIi0wOHn2V3ZGG6",
      "include_colab_link": true
    },
    "kernelspec": {
      "name": "python3",
      "display_name": "Python 3"
    },
    "language_info": {
      "name": "python"
    }
  },
  "cells": [
    {
      "cell_type": "markdown",
      "metadata": {
        "id": "view-in-github",
        "colab_type": "text"
      },
      "source": [
        "<a href=\"https://colab.research.google.com/github/Jeelpatel192/Python_Programming/blob/main/L4_Python_lists.ipynb\" target=\"_parent\"><img src=\"https://colab.research.google.com/assets/colab-badge.svg\" alt=\"Open In Colab\"/></a>"
      ]
    },
    {
      "cell_type": "markdown",
      "source": [
        "# 1. Lists"
      ],
      "metadata": {
        "id": "KdmfFIOutVwY"
      }
    },
    {
      "cell_type": "markdown",
      "source": [
        "* What are Lists?\n",
        "* Lists vs Arrays\n",
        "* Characterstics of List\n",
        "* How to create a List\n",
        "* Access items from a List\n",
        "* Editing items from a List\n",
        "* Deleting items from a List\n",
        "* Operations on List\n",
        "* Functions on List"
      ],
      "metadata": {
        "id": "tJFFkM3OtZK1"
      }
    },
    {
      "cell_type": "markdown",
      "source": [
        "# What are Lists\n",
        "\n",
        "List is a data type where you can store multiple items under 1 name. More techanically, lists act like dynamic arrays which means you can add more items on the fly."
      ],
      "metadata": {
        "id": "HB1-NsvguBBg"
      }
    },
    {
      "cell_type": "markdown",
      "source": [
        "# Arrays Vs Lists\n",
        "\n",
        "* Fixed Vs Dynamic Size\n",
        "* Convenience -> Hetrogeneous\n",
        "* Speed of Execution\n",
        "* Memory"
      ],
      "metadata": {
        "id": "2bzG05_yuiOO"
      }
    }
  ]
}