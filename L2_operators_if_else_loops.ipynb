{
  "nbformat": 4,
  "nbformat_minor": 0,
  "metadata": {
    "colab": {
      "provenance": [],
      "authorship_tag": "ABX9TyOdbc6hNUuCp6jkgKrpOAar",
      "include_colab_link": true
    },
    "kernelspec": {
      "name": "python3",
      "display_name": "Python 3"
    },
    "language_info": {
      "name": "python"
    }
  },
  "cells": [
    {
      "cell_type": "markdown",
      "metadata": {
        "id": "view-in-github",
        "colab_type": "text"
      },
      "source": [
        "<a href=\"https://colab.research.google.com/github/Jeelpatel192/Python_Programming/blob/main/L2_operators_if_else_loops.ipynb\" target=\"_parent\"><img src=\"https://colab.research.google.com/assets/colab-badge.svg\" alt=\"Open In Colab\"/></a>"
      ]
    },
    {
      "cell_type": "markdown",
      "source": [
        "# **Operators in Python** "
      ],
      "metadata": {
        "id": "kFi29e-IRdSZ"
      }
    },
    {
      "cell_type": "markdown",
      "source": [
        "* Arithmetical Operators\n",
        "* Relational Operatoes\n",
        "* Logical Operators\n",
        "* Bitwise Operators\n",
        "* Assignment Operators\n",
        "* Membership Operators\n",
        "\n",
        "\n",
        "\n",
        "\n"
      ],
      "metadata": {
        "id": "SU_KV9ohRlMP"
      }
    },
    {
      "cell_type": "code",
      "execution_count": null,
      "metadata": {
        "colab": {
          "base_uri": "https://localhost:8080/"
        },
        "id": "erkTKiG5RXOX",
        "outputId": "3071d369-ab9c-41e0-bfdc-c63a3bee6851"
      },
      "outputs": [
        {
          "output_type": "stream",
          "name": "stdout",
          "text": [
            "13\n",
            "5\n",
            "36\n",
            "2.25\n",
            "2\n",
            "1\n",
            "25\n"
          ]
        }
      ],
      "source": [
        "# Arithmetic Operators\n",
        "# +, -, *, /, //, %, ** \n",
        "\n",
        "a = 9\n",
        "b = 4\n",
        "\n",
        "print(a+b)\n",
        "print(a-b)\n",
        "print(a*b)\n",
        "print(a/b) \n",
        "print(a//b) #Integer division\n",
        "print(a%b)\n",
        "print(5**2) #Power of operator"
      ]
    },
    {
      "cell_type": "code",
      "source": [
        "# Relational Operators\n",
        "# <, >, <=, >=, ==, !=\n",
        "\n",
        "a = 5\n",
        "b = 8\n",
        "\n",
        "print(a<b)\n",
        "print(a>b)\n",
        "print(b<=a)\n",
        "print(b>=a)\n",
        "print(a==b)\n",
        "print(a!=b)"
      ],
      "metadata": {
        "colab": {
          "base_uri": "https://localhost:8080/"
        },
        "id": "lw8AW674SsQw",
        "outputId": "094603ab-07df-41be-91e8-ff506b01d0c8"
      },
      "execution_count": null,
      "outputs": [
        {
          "output_type": "stream",
          "name": "stdout",
          "text": [
            "True\n",
            "False\n",
            "False\n",
            "True\n",
            "False\n",
            "True\n"
          ]
        }
      ]
    },
    {
      "cell_type": "code",
      "source": [
        "#Logical Operators\n",
        "# and, or, not\n",
        "\n",
        "print(1 and 0)\n",
        "print(1 and 1)\n",
        "\n",
        "print(1 or 0)\n",
        "print(1 or 0)\n",
        "\n",
        "print(not 0)\n",
        "print(not 1)"
      ],
      "metadata": {
        "colab": {
          "base_uri": "https://localhost:8080/"
        },
        "id": "ywAQqH10TBDH",
        "outputId": "3a59ba8f-8f94-4774-ccc9-bd8569a044b1"
      },
      "execution_count": null,
      "outputs": [
        {
          "output_type": "stream",
          "name": "stdout",
          "text": [
            "0\n",
            "1\n",
            "1\n",
            "1\n",
            "True\n",
            "False\n"
          ]
        }
      ]
    },
    {
      "cell_type": "code",
      "source": [
        "# Bitwise Operators\n",
        "# &, |, ^\n",
        "\n",
        "print(2 & 3) #bitwise and\n",
        "# Binary 2 : 010\n",
        "# Binary 3 : 110\n",
        "# 2 & 3    : 010 (010 = 2)\n",
        "\n",
        "print(2 | 3) #bitwise or\n",
        "# Binary 2 : 010\n",
        "# Binary 3 : 110\n",
        "# 2 | 3    : 110 (110 = 3)\n",
        "\n",
        "print(2 ^ 3) #bitwise xor\n",
        "# Binary 2 : 010\n",
        "# Binary 3 : 110\n",
        "# 2 ^ 3    : 100 (100 = 1)\n",
        "\n",
        "print(~35)\n",
        "# 35 = 00100011 (In Binary)\n",
        "\n",
        "print(212>>2)\n",
        "# 212 = 11010100 (In binary)\n",
        "# 212 >> 2 = ??110101 \n",
        "# 212 >> 2 = 00110101 (In binary) [Right shift by two bits] (53)\n",
        "\n",
        "print(212<<2)\n",
        "# 212 = 11010100 (In binary)\n",
        "# 212 << 2 = 11010100?? \n",
        "# 212 << 2 = 1101010000 (In binary) [Left shift by two bits] (548)\n"
      ],
      "metadata": {
        "colab": {
          "base_uri": "https://localhost:8080/"
        },
        "id": "_2YvHspmTULC",
        "outputId": "384ca7c4-b62f-430f-b84f-c9e87a571fdd"
      },
      "execution_count": null,
      "outputs": [
        {
          "output_type": "stream",
          "name": "stdout",
          "text": [
            "2\n",
            "3\n",
            "1\n",
            "-36\n",
            "53\n",
            "848\n"
          ]
        }
      ]
    },
    {
      "cell_type": "code",
      "source": [
        "# Assignment Operators\n",
        "# =, +=, -=, *=, /=\n",
        "\n",
        "a = 10\n",
        "\n",
        "b = a\n",
        "print(b) #10\n",
        "\n",
        "a += 2\n",
        "print(a) #12\n",
        "\n",
        "a -= 4\n",
        "print(a) #8\n",
        "\n",
        "a *= 3\n",
        "print(a) #24\n",
        "\n",
        "a /= 2\n",
        "print(a) #12"
      ],
      "metadata": {
        "colab": {
          "base_uri": "https://localhost:8080/"
        },
        "id": "ZeeGgvnSV_lP",
        "outputId": "60223ae7-c4c7-49c5-88fe-b4627098b924"
      },
      "execution_count": null,
      "outputs": [
        {
          "output_type": "stream",
          "name": "stdout",
          "text": [
            "10\n",
            "12\n",
            "8\n",
            "24\n",
            "12.0\n"
          ]
        }
      ]
    },
    {
      "cell_type": "code",
      "source": [
        "# Membership Operator\n",
        "# in / not in\n",
        "\n",
        "print('D' in 'Delhi')\n",
        "\n",
        "print('x' in ['a', 'b', 'x'])\n",
        "\n",
        "print('D' not in 'Delhi')\n",
        "\n",
        "print('x' not in ['a', 'b', 'x'])"
      ],
      "metadata": {
        "colab": {
          "base_uri": "https://localhost:8080/"
        },
        "id": "3PEzzK6JW4rI",
        "outputId": "ad6d4da4-4816-4762-9f3b-04a31c14eefa"
      },
      "execution_count": null,
      "outputs": [
        {
          "output_type": "stream",
          "name": "stdout",
          "text": [
            "True\n",
            "True\n",
            "False\n",
            "False\n"
          ]
        }
      ]
    },
    {
      "cell_type": "markdown",
      "source": [
        "# **Conditional Statements**"
      ],
      "metadata": {
        "id": "CesrYJEKZpHb"
      }
    },
    {
      "cell_type": "markdown",
      "source": [
        "**If-Else in Python**"
      ],
      "metadata": {
        "id": "IrlfH0bTXnZO"
      }
    },
    {
      "cell_type": "code",
      "source": [
        "# login program and identification\n",
        "# email -> jb@gmail.com\n",
        "# password -> 123\n",
        "\n",
        "email = input('Enter Email ')\n",
        "password = input('Enter Password ')\n",
        "\n",
        "if email == 'jb@gmail.com' and password == '123' :\n",
        "    print('Welcome')\n",
        "else :\n",
        "    print('Not Correct')"
      ],
      "metadata": {
        "colab": {
          "base_uri": "https://localhost:8080/"
        },
        "id": "SetqgibUXnIM",
        "outputId": "dad39cde-aef0-457e-8b5c-cae92e269300"
      },
      "execution_count": null,
      "outputs": [
        {
          "output_type": "stream",
          "name": "stdout",
          "text": [
            "Enter Email jb@gmail.com\n",
            "Enter Password 123\n",
            "Welcome\n"
          ]
        }
      ]
    },
    {
      "cell_type": "markdown",
      "source": [
        "**If-else-if in Python**"
      ],
      "metadata": {
        "id": "2bex_Ky-Zfpb"
      }
    },
    {
      "cell_type": "code",
      "source": [
        "# login program and identification\n",
        "# email -> jb@gmail.com\n",
        "# password -> 123\n",
        "\n",
        "email = input('Enter Email ')\n",
        "password = input('Enter Password ')\n",
        "\n",
        "if email == 'jb@gmail.com' and password == '123' :\n",
        "    print('Welcome')\n",
        "elif email == 'jb@gmail.com' and password != '123' :\n",
        "    print('Password Not Correct')\n",
        "elif email == 'jb@gmail.com' and password == '123' :\n",
        "    print('Email not correct')\n",
        "else :\n",
        "    print('Both not correct')"
      ],
      "metadata": {
        "colab": {
          "base_uri": "https://localhost:8080/"
        },
        "outputId": "349243b7-0468-41b3-d8d0-bb5d90fb7439",
        "id": "AQG2s-ZbYxJm"
      },
      "execution_count": null,
      "outputs": [
        {
          "output_type": "stream",
          "name": "stdout",
          "text": [
            "Enter Email jb@gmail.com\n",
            "Enter Password 111\n",
            "Password Not Correct\n"
          ]
        }
      ]
    },
    {
      "cell_type": "markdown",
      "source": [
        "**Nested if-else**"
      ],
      "metadata": {
        "id": "qKvjRcg_Zmds"
      }
    },
    {
      "cell_type": "code",
      "source": [
        "# login program and identification\n",
        "# email -> jb@gmail.com\n",
        "# password -> 123\n",
        "\n",
        "email = input('Enter Email ')\n",
        "password = input('Enter Password ')\n",
        "\n",
        "if email == 'jb@gmail.com' and password == '123' :\n",
        "    print('Welcome')\n",
        "elif email == 'jb@gmail.com' and password != '123' :\n",
        "    print('Password Not Correct')\n",
        "    \n",
        "    password = input('Enter Password again ')\n",
        "\n",
        "    if password == '123' :\n",
        "        print('Welcome')\n",
        "    else :\n",
        "        print('Again wrong password')\n",
        "else :\n",
        "    print('Both not correct')"
      ],
      "metadata": {
        "colab": {
          "base_uri": "https://localhost:8080/"
        },
        "id": "fJAGI3SgZde9",
        "outputId": "557bb5aa-cd69-4d4c-95b1-b9da1a524bd7"
      },
      "execution_count": null,
      "outputs": [
        {
          "output_type": "stream",
          "name": "stdout",
          "text": [
            "Enter Email jb@gmail.com\n",
            "Enter Password 000\n",
            "Password Not Correct\n",
            "Enter Password again 123\n",
            "Welcome\n"
          ]
        }
      ]
    },
    {
      "cell_type": "markdown",
      "source": [
        "IF-Else example program\n",
        "\n",
        "\n",
        "1. Ment Driven Calculator\n",
        "\n"
      ],
      "metadata": {
        "id": "tj24KZRjc1hi"
      }
    },
    {
      "cell_type": "code",
      "source": [
        "n1 = int(input('Enter First Number : '))\n",
        "n2 = int(input('Enter Second Number : '))\n",
        "\n",
        "op = input('Enter Operator : ')\n",
        "\n",
        "if op == '+' :\n",
        "    print(n1 + n2)\n",
        "elif op == '-' :\n",
        "    print(n1 - n2)\n",
        "elif op == '*' :\n",
        "    print(n1 * n2)\n",
        "elif op == '/' :\n",
        "    print(n1 / n2)"
      ],
      "metadata": {
        "colab": {
          "base_uri": "https://localhost:8080/"
        },
        "id": "e_PTc0vucOkc",
        "outputId": "a9799258-217e-42e6-a147-5a5090199566"
      },
      "execution_count": null,
      "outputs": [
        {
          "output_type": "stream",
          "name": "stdout",
          "text": [
            "Enter First Number : 10\n",
            "Enter Second Number : 3\n",
            "Enter Operator : /\n",
            "3.3333333333333335\n"
          ]
        }
      ]
    },
    {
      "cell_type": "markdown",
      "source": [
        "# **Modules in Python**"
      ],
      "metadata": {
        "id": "TCtspOIidApT"
      }
    },
    {
      "cell_type": "markdown",
      "source": [
        "* Math\n",
        "* Keywords\n",
        "* Random\n",
        "* Datetime"
      ],
      "metadata": {
        "id": "l5OqgfZ1dZ5y"
      }
    },
    {
      "cell_type": "code",
      "source": [
        "# Math\n",
        "import math\n",
        "\n",
        "math.floor(5.3)"
      ],
      "metadata": {
        "colab": {
          "base_uri": "https://localhost:8080/"
        },
        "id": "joyiPFmodK-j",
        "outputId": "46de2948-d401-4be7-8031-7b9c6a6804f1"
      },
      "execution_count": null,
      "outputs": [
        {
          "output_type": "execute_result",
          "data": {
            "text/plain": [
              "5"
            ]
          },
          "metadata": {},
          "execution_count": 32
        }
      ]
    },
    {
      "cell_type": "code",
      "source": [
        "import math\n",
        "\n",
        "math.sqrt(121)"
      ],
      "metadata": {
        "colab": {
          "base_uri": "https://localhost:8080/"
        },
        "id": "7ZFn3zZQdukg",
        "outputId": "56a0ab5a-3902-4b1d-d2de-baac491b6a2c"
      },
      "execution_count": null,
      "outputs": [
        {
          "output_type": "execute_result",
          "data": {
            "text/plain": [
              "11.0"
            ]
          },
          "metadata": {},
          "execution_count": 33
        }
      ]
    },
    {
      "cell_type": "code",
      "source": [
        "# keyword\n",
        "\n",
        "import keyword\n",
        "\n",
        "print(keyword.kwlist)"
      ],
      "metadata": {
        "colab": {
          "base_uri": "https://localhost:8080/"
        },
        "id": "eq_QoPY_duqx",
        "outputId": "f3e6379b-80da-4a7a-c767-77c01bad849a"
      },
      "execution_count": null,
      "outputs": [
        {
          "output_type": "stream",
          "name": "stdout",
          "text": [
            "['False', 'None', 'True', 'and', 'as', 'assert', 'async', 'await', 'break', 'class', 'continue', 'def', 'del', 'elif', 'else', 'except', 'finally', 'for', 'from', 'global', 'if', 'import', 'in', 'is', 'lambda', 'nonlocal', 'not', 'or', 'pass', 'raise', 'return', 'try', 'while', 'with', 'yield']\n"
          ]
        }
      ]
    },
    {
      "cell_type": "code",
      "source": [
        "# random\n",
        "\n",
        "import random\n",
        "print(random.randint(1,20))"
      ],
      "metadata": {
        "colab": {
          "base_uri": "https://localhost:8080/"
        },
        "id": "Gy2F3qRmeBMO",
        "outputId": "55819de9-fa20-4119-9d2c-956a6aa707da"
      },
      "execution_count": null,
      "outputs": [
        {
          "output_type": "stream",
          "name": "stdout",
          "text": [
            "15\n"
          ]
        }
      ]
    },
    {
      "cell_type": "code",
      "source": [
        "# datetime\n",
        "\n",
        "import datetime\n",
        "print(datetime.datetime.now())"
      ],
      "metadata": {
        "colab": {
          "base_uri": "https://localhost:8080/"
        },
        "id": "2E1VBd6PeTUK",
        "outputId": "2fbfd188-8957-4bb3-e187-4c2cf7517e9a"
      },
      "execution_count": null,
      "outputs": [
        {
          "output_type": "stream",
          "name": "stdout",
          "text": [
            "2023-05-06 05:12:38.069914\n"
          ]
        }
      ]
    },
    {
      "cell_type": "markdown",
      "source": [
        "**all available modules in python**"
      ],
      "metadata": {
        "id": "8XAlUpxkeow_"
      }
    },
    {
      "cell_type": "code",
      "source": [
        "# help is a built-in function\n",
        "\n",
        "help('modules')"
      ],
      "metadata": {
        "colab": {
          "base_uri": "https://localhost:8080/"
        },
        "id": "AWCw7KY-eyHq",
        "outputId": "eeabc64c-5963-46ed-fbed-8bd6ee71e5b8"
      },
      "execution_count": null,
      "outputs": [
        {
          "output_type": "stream",
          "name": "stdout",
          "text": [
            "\n",
            "Please wait a moment while I gather a list of all available modules...\n",
            "\n"
          ]
        },
        {
          "output_type": "stream",
          "name": "stderr",
          "text": [
            "/usr/local/lib/python3.10/dist-packages/IPython/kernel/__init__.py:12: ShimWarning: The `IPython.kernel` package has been deprecated since IPython 4.0.You should import from ipykernel or jupyter_client instead.\n",
            "  warn(\"The `IPython.kernel` package has been deprecated since IPython 4.0.\"\n",
            "/usr/local/lib/python3.10/dist-packages/altair/vega/v5/__init__.py:18: AltairDeprecationWarning: The module altair.vega.v5 is deprecated and will be removed in Altair 5.\n",
            "  warnings.warn(\n",
            "/usr/local/lib/python3.10/dist-packages/altair/vegalite/v3/__init__.py:29: AltairDeprecationWarning: The module altair.vegalite.v3 is deprecated and will be removed in Altair 5. Use `import altair as alt` instead of `import altair.vegalite.v3 as alt`.\n",
            "  warnings.warn(\n",
            "/usr/local/lib/python3.10/dist-packages/jupyter_client/ssh/tunnel.py:57: DeprecationWarning:\n",
            "\n",
            "zmq.utils.strtypes is deprecated in pyzmq 23.\n",
            "\n",
            "/usr/local/lib/python3.10/dist-packages/llvmlite/llvmpy/__init__.py:3: UserWarning:\n",
            "\n",
            "The module `llvmlite.llvmpy` is deprecated and will be removed in the future.\n",
            "\n"
          ]
        },
        {
          "output_type": "stream",
          "name": "stdout",
          "text": [
            "Downloading http://dlib.net/files/shape_predictor_68_face_landmarks.dat.bz2 to /root/mlxtend_data/shape_predictor_68_face_landmarks.dat.bz2\n"
          ]
        },
        {
          "output_type": "stream",
          "name": "stderr",
          "text": [
            "/usr/local/lib/python3.10/dist-packages/moviepy/video/fx/painting.py:7: DeprecationWarning:\n",
            "\n",
            "Please use `sobel` from the `scipy.ndimage` namespace, the `scipy.ndimage.filters` namespace is deprecated.\n",
            "\n",
            "/usr/local/lib/python3.10/dist-packages/nibabel/quaternions.py:31: DeprecationWarning:\n",
            "\n",
            "`np.float` is a deprecated alias for the builtin `float`. To silence this warning, use `float` by itself. Doing this will not modify any behavior and is safe. If you specifically wanted the numpy scalar type, use `np.float64` here.\n",
            "Deprecated in NumPy 1.20; for more details and guidance: https://numpy.org/devdocs/release/1.20.0-notes.html#deprecations\n",
            "\n",
            "/usr/lib/python3.10/pkgutil.py:92: UserWarning:\n",
            "\n",
            "The DICOM readers are highly experimental, unstable, and only work for Siemens time-series at the moment\n",
            "Please use with caution.  We would be grateful for your help in improving them\n",
            "\n",
            "/usr/local/lib/python3.10/dist-packages/nltk/twitter/__init__.py:20: UserWarning:\n",
            "\n",
            "The twython library has not been installed. Some functionality from the twitter package will not be available.\n",
            "\n",
            "/usr/lib/python3.10/pkgutil.py:92: UserWarning:\n",
            "\n",
            "The numpy.array_api submodule is still experimental. See NEP 47.\n",
            "\n",
            "/usr/local/lib/python3.10/dist-packages/matplotlib_inline/config.py:68: DeprecationWarning:\n",
            "\n",
            "InlineBackend._figure_format_changed is deprecated in traitlets 4.1: use @observe and @unobserve instead.\n",
            "\n",
            "/usr/local/lib/python3.10/dist-packages/pip/_vendor/packaging/version.py:111: DeprecationWarning:\n",
            "\n",
            "Creating a LegacyVersion has been deprecated and will be removed in the next major release\n",
            "\n",
            "/usr/local/lib/python3.10/dist-packages/pip/_vendor/packaging/version.py:111: DeprecationWarning:\n",
            "\n",
            "Creating a LegacyVersion has been deprecated and will be removed in the next major release\n",
            "\n",
            "/usr/lib/python3.10/pkgutil.py:92: UserWarning: viewer requires Qt\n",
            "/usr/local/lib/python3.10/dist-packages/tensorboard/_vendor/html5lib/filters/sanitizer.py:29: DeprecationWarning: html5lib's sanitizer is deprecated; see https://github.com/html5lib/html5lib-python/issues/443 and please let us know if Bleach is unsuitable for your needs\n",
            "/usr/local/lib/python3.10/dist-packages/torch/distributed/_shard/checkpoint/__init__.py:8: DeprecationWarning: torch.distributed._shard.checkpoint will be deprecated, use torch.distributed.checkpoint instead\n",
            "/usr/local/lib/python3.10/dist-packages/torch/distributed/_sharded_tensor/__init__.py:8: DeprecationWarning: torch.distributed._sharded_tensor will be deprecated, use torch.distributed._shard.sharded_tensor instead\n",
            "/usr/local/lib/python3.10/dist-packages/torch/distributed/_sharding_spec/__init__.py:8: DeprecationWarning: torch.distributed._sharding_spec will be deprecated, use torch.distributed._shard.sharding_spec instead\n",
            "No CUDA runtime is found, using CUDA_HOME='/usr/local/cuda'\n",
            "/usr/local/lib/python3.10/dist-packages/torchvision/datapoints/__init__.py:12: UserWarning: The torchvision.datapoints and torchvision.transforms.v2 namespaces are still Beta. While we do not expect major breaking changes, some APIs may still change according to user feedback. Please submit any feedback you may have in this issue: https://github.com/pytorch/vision/issues/6753, and you can also check out https://github.com/pytorch/vision/issues/7319 to learn more about the APIs that we suspect might involve future changes. You can silence this warning by calling torchvision.disable_beta_transforms_warning().\n",
            "/usr/local/lib/python3.10/dist-packages/torchvision/transforms/v2/__init__.py:54: UserWarning: The torchvision.datapoints and torchvision.transforms.v2 namespaces are still Beta. While we do not expect major breaking changes, some APIs may still change according to user feedback. Please submit any feedback you may have in this issue: https://github.com/pytorch/vision/issues/6753, and you can also check out https://github.com/pytorch/vision/issues/7319 to learn more about the APIs that we suspect might involve future changes. You can silence this warning by calling torchvision.disable_beta_transforms_warning().\n"
          ]
        },
        {
          "output_type": "stream",
          "name": "stdout",
          "text": [
            "Cython              colorlover          langcodes           rich\n",
            "IPython             colorsys            lazy_loader         rlcompleter\n",
            "OpenGL              community           lib2to3             rmagic\n",
            "PIL                 compileall          libfuturize         rpy2\n",
            "__future__          concurrent          libpasteurize       rsa\n",
            "_abc                confection          librosa             runpy\n",
            "_aix_support        configparser        lightgbm            sched\n",
            "_argon2_cffi_bindings cons                linecache           scipy\n",
            "_ast                contextlib          lit                 scs\n",
            "_asyncio            contextlib2         llvmlite            seaborn\n",
            "_bisect             contextvars         locale              secrets\n",
            "_blake2             contourpy           locket              select\n",
            "_bootsubprocess     convertdate         logging             selectors\n",
            "_bz2                copy                lsb_release         send2trash\n",
            "_cffi_backend       copyreg             lunarcalendar       setuptools\n",
            "_codecs             cpuinfo             lxml                shapely\n",
            "_codecs_cn          crypt               lzma                shelve\n",
            "_codecs_hk          cryptography        mailbox             shlex\n",
            "_codecs_iso2022     csv                 mailcap             shutil\n",
            "_codecs_jp          ctypes              markdown            signal\n",
            "_codecs_kr          cufflinks           markdown_it         site\n",
            "_codecs_tw          curses              markupsafe          sitecustomize\n",
            "_collections        cv2                 marshal             six\n",
            "_collections_abc    cvxopt              math                skimage\n",
            "_compat_pickle      cvxpy               matplotlib          sklearn\n",
            "_compression        cycler              matplotlib_inline   sklearn_pandas\n",
            "_contextvars        cymem               matplotlib_venn     slugify\n",
            "_crypt              cython              mdurl               smart_open\n",
            "_csv                cythonmagic         mimetypes           smtpd\n",
            "_ctypes             dask                missingno           smtplib\n",
            "_ctypes_test        dataclasses         mistune             sndhdr\n",
            "_curses             datascience         mizani              sniffio\n",
            "_curses_panel       datetime            ml_dtypes           snowballstemmer\n",
            "_cvxcore            dateutil            mlxtend             socket\n",
            "_datetime           db_dtypes           mmap                socketserver\n",
            "_dbm                dbm                 modulefinder        socks\n",
            "_decimal            dbus                more_itertools      sockshandler\n",
            "_distutils_hack     debugpy             moviepy             softwareproperties\n",
            "_dlib_pybind11      decimal             mpmath              sortedcontainers\n",
            "_ecos               decorator           msgpack             soundfile\n",
            "_elementtree        defusedxml          multipledispatch    soupsieve\n",
            "_functools          difflib             multiprocessing     soxr\n",
            "_hashlib            dis                 multitasking        spacy\n",
            "_heapq              distributed         murmurhash          spacy_legacy\n",
            "_imp                distutils           music21             spacy_loggers\n",
            "_io                 dlib                natsort             sphinx\n",
            "_json               doctest             nbclient            spwd\n",
            "_locale             docutils            nbconvert           sql\n",
            "_lsprof             dopamine            nbformat            sqlalchemy\n",
            "_lzma               dot_parser          nest_asyncio        sqlite3\n",
            "_markupbase         duckdb              netrc               sqlparse\n",
            "_md5                duckdb_query_graph  networkx            sre_compile\n",
            "_multibytecodec     easydict            nibabel             sre_constants\n",
            "_multiprocessing    ecos                nis                 sre_parse\n",
            "_opcode             editdistance        nisext              srsly\n",
            "_operator           ee                  nltk                ssl\n",
            "_osx_support        email               nntplib             stat\n",
            "_pickle             en_core_web_sm      notebook            statistics\n",
            "_plotly_future_     encodings           ntpath              statsmodels\n",
            "_plotly_utils       entrypoints         nturl2path          storemagic\n",
            "_posixshmem         enum                numba               string\n",
            "_posixsubprocess    ephem               numbergen           stringprep\n",
            "_py_abc             erfa                numbers             struct\n",
            "_pydecimal          errno               numexpr             subprocess\n",
            "_pyio               et_xmlfile          numpy               sunau\n",
            "_pyrsistent_version etils               nvfuser             sympy\n",
            "_pytest             etuples             oauth2client        sympyprinting\n",
            "_queue              exceptiongroup      oauthlib            symtable\n",
            "_random             fastai              opcode              sys\n",
            "_rinterface_cffi_abi fastcore            openpyxl            sysconfig\n",
            "_rinterface_cffi_api fastdownload        operator            syslog\n",
            "_scs_direct         fastjsonschema      opt_einsum          tables\n",
            "_scs_indirect       fastprogress        optax               tabnanny\n",
            "_sha1               fastrlock           optparse            tabulate\n",
            "_sha256             faulthandler        os                  tarfile\n",
            "_sha3               fcntl               osgeo               tblib\n",
            "_sha512             filecmp             osgeo_utils         telnetlib\n",
            "_signal             fileinput           osqp                tempfile\n",
            "_sitebuiltins       filelock            osqppurepy          tenacity\n",
            "_socket             firebase_admin      ossaudiodev         tensorboard\n",
            "_soundfile          flask               packaging           tensorboard_data_server\n",
            "_soundfile_data     flatbuffers         palettable          tensorboard_plugin_wit\n",
            "_sqlite3            flax                pandas              tensorflow\n",
            "_sre                fnmatch             pandas_datareader   tensorflow_datasets\n",
            "_ssl                folium              pandas_gbq          tensorflow_estimator\n",
            "_stat               fontTools           pandocfilters       tensorflow_gcs_config\n",
            "_statistics         fractions           panel               tensorflow_hub\n",
            "_string             frozendict          param               tensorflow_io_gcs_filesystem\n",
            "_strptime           fsspec              parso               tensorflow_metadata\n",
            "_struct             ftplib              partd               tensorflow_probability\n",
            "_symtable           functools           past                tensorstore\n",
            "_sysconfigdata__linux_x86_64-linux-gnu functorch           pasta               termcolor\n",
            "_sysconfigdata__x86_64-linux-gnu future              pathlib             terminado\n",
            "_testbuffer         gast                pathy               termios\n",
            "_testcapi           gc                  patsy               test\n",
            "_testclinic         gdown               pdb                 tests\n",
            "_testimportmultiple genericpath         pep517              text_unidecode\n",
            "_testinternalcapi   gensim              pexpect             textblob\n",
            "_testmultiphase     geographiclib       pickle              textwrap\n",
            "_thread             geopy               pickleshare         tf_slim\n",
            "_threading_local    getopt              pickletools         thinc\n",
            "_tkinter            getpass             pip                 this\n",
            "_tracemalloc        gettext             pipes               threading\n",
            "_uuid               gi                  piptools            threadpoolctl\n",
            "_warnings           gin                 pkg_resources       tifffile\n",
            "_weakref            glob                pkgutil             time\n",
            "_weakrefset         glob2               platform            timeit\n",
            "_xxsubinterpreters  google_auth_httplib2 platformdirs        tinycss2\n",
            "_xxtestfuzz         google_auth_oauthlib plistlib            tkinter\n",
            "_yaml               google_crc32c       plotly              tlz\n",
            "_zoneinfo           google_drive_downloader plotnine            token\n",
            "abc                 googleapiclient     pluggy              tokenize\n",
            "absl                googlesearch        polars              toml\n",
            "aifc                graphlib            pooch               tomli\n",
            "alabaster           graphviz            poplib              toolz\n",
            "albumentations      greenlet            portpicker          torch\n",
            "altair              grp                 posix               torchaudio\n",
            "antigravity         grpc                posixpath           torchdata\n",
            "anyio               grpc_status         pprint              torchgen\n",
            "apiclient           gspread             prefetch_generator  torchsummary\n",
            "appdirs             gspread_dataframe   preshed             torchtext\n",
            "apt                 gym                 prettytable         torchvision\n",
            "apt_inst            gym_notices         profile             tornado\n",
            "apt_pkg             gzip                proglog             tqdm\n",
            "aptsources          h5netcdf            progressbar         trace\n",
            "argon2              h5py                prometheus_client   traceback\n",
            "argparse            hashlib             promise             tracemalloc\n",
            "array               heapq               prompt_toolkit      traitlets\n",
            "arviz               hijri_converter     prophet             tree\n",
            "ast                 hmac                proto               triton\n",
            "astropy             holidays            pstats              tty\n",
            "astunparse          holoviews           psutil              turtle\n",
            "asynchat            html                psycopg2            tweepy\n",
            "asyncio             html5lib            pty                 typer\n",
            "asyncore            http                ptyprocess          types\n",
            "atexit              httpimport          pwd                 typing\n",
            "attr                httplib2            py                  typing_extensions\n",
            "attrs               humanize            py4j                tzdata\n",
            "audioop             hyperopt            py_compile          tzlocal\n",
            "audioread           idna                pyarrow             unicodedata\n",
            "autograd            imageio             pyasn1              unification\n",
            "autoreload          imageio_ffmpeg      pyasn1_modules      unittest\n",
            "babel               imagesize           pyclbr              uritemplate\n",
            "backcall            imaplib             pycocotools         urllib\n",
            "base64              imblearn            pycparser           urllib3\n",
            "bdb                 imgaug              pyct                uu\n",
            "bin                 imghdr              pydantic            uuid\n",
            "binascii            imp                 pydata_google_auth  vega_datasets\n",
            "binhex              importlib           pydoc               venv\n",
            "bisect              importlib_resources pydoc_data          warnings\n",
            "bleach              imutils             pydot               wasabi\n",
            "blis                inflect             pydot_ng            wave\n",
            "blosc2              iniconfig           pydotplus           wcwidth\n",
            "bokeh               inspect             pydrive             weakref\n",
            "boost               io                  pyexpat             webbrowser\n",
            "branca              ipaddress           pygame              webcolors\n",
            "bs4                 ipykernel           pygments            webencodings\n",
            "builtins            ipykernel_launcher  pygtkcompat         websocket\n",
            "bz2                 ipython_genutils    pylab               werkzeug\n",
            "cProfile            ipywidgets          pymc                wheel\n",
            "cachecontrol        isympy              pymeeus             widgetsnbextension\n",
            "cached_property     itertools           pymystem3           wordcloud\n",
            "cachetools          itsdangerous        pyparsing           wrapt\n",
            "calendar            jax                 pyrsistent          wsgiref\n",
            "catalogue           jaxlib              pytensor            xarray\n",
            "certifi             jieba               pytest              xarray_einstats\n",
            "cffi                jinja2              python_utils        xdrlib\n",
            "cgi                 joblib              pytz                xgboost\n",
            "cgitb               json                pytz_deprecation_shim xlrd\n",
            "chardet             jsonpickle          pyviz_comms         xml\n",
            "charset_normalizer  jsonschema          pywt                xmlrpc\n",
            "chex                jupyter             pyximport           xxlimited\n",
            "chunk               jupyter_client      qdldl               xxlimited_35\n",
            "clang               jupyter_console     qudida              xxsubtype\n",
            "click               jupyter_core        queue               yaml\n",
            "cloudpickle         jupyter_server      quopri              yellowbrick\n",
            "cmake               jupyterlab_plotly   random              yfinance\n",
            "cmath               jupyterlab_pygments re                  zict\n",
            "cmd                 jupyterlab_widgets  readline            zipapp\n",
            "cmdstanpy           kaggle              regex               zipfile\n",
            "code                kanren              reprlib             zipimport\n",
            "codecs              keras               requests            zipp\n",
            "codeop              keyword             requests_oauthlib   zlib\n",
            "collections         kiwisolver          requests_unixsocket zmq\n",
            "colorcet            korean_lunar_calendar resource            zoneinfo\n",
            "\n",
            "Enter any module name to get more help.  Or, type \"modules spam\" to search\n",
            "for modules whose name or summary contain the string \"spam\".\n",
            "\n"
          ]
        },
        {
          "output_type": "stream",
          "name": "stderr",
          "text": [
            "/usr/lib/python3.10/pkgutil.py:107: VisibleDeprecationWarning: zmq.eventloop.minitornado is deprecated in pyzmq 14.0 and will be removed.\n",
            "    Install tornado itself to use zmq with the tornado IOLoop.\n",
            "    \n"
          ]
        }
      ]
    },
    {
      "cell_type": "markdown",
      "source": [
        "# **Loops in Python**"
      ],
      "metadata": {
        "id": "P03OksDXfFHz"
      }
    },
    {
      "cell_type": "markdown",
      "source": [
        "1. print a table using while loop"
      ],
      "metadata": {
        "id": "C89FCMQgfTf7"
      }
    },
    {
      "cell_type": "code",
      "source": [
        "num = int(input('Enter Number : '))\n",
        "\n",
        "i = 1\n",
        "\n",
        "while i < 11:\n",
        "    print(num, ' x ', i, ' = ', (num*i))\n",
        "    i += 1"
      ],
      "metadata": {
        "colab": {
          "base_uri": "https://localhost:8080/"
        },
        "id": "QH1871mtfYz9",
        "outputId": "29c7f45d-1fde-4afc-9f71-de7a822a927d"
      },
      "execution_count": null,
      "outputs": [
        {
          "output_type": "stream",
          "name": "stdout",
          "text": [
            "Enter Number : 4\n",
            "4  x  1  =  4\n",
            "4  x  2  =  8\n",
            "4  x  3  =  12\n",
            "4  x  4  =  16\n",
            "4  x  5  =  20\n",
            "4  x  6  =  24\n",
            "4  x  7  =  28\n",
            "4  x  8  =  32\n",
            "4  x  9  =  36\n",
            "4  x  10  =  40\n"
          ]
        }
      ]
    },
    {
      "cell_type": "code",
      "source": [
        "# print 1 to 10 using for loop\n",
        "\n",
        "for i in range(1, 11) :\n",
        "    print(i)"
      ],
      "metadata": {
        "colab": {
          "base_uri": "https://localhost:8080/"
        },
        "id": "fP8iNkQdgCdz",
        "outputId": "bcc85e15-9d2e-4bc9-a61d-ca7ea0461d83"
      },
      "execution_count": null,
      "outputs": [
        {
          "output_type": "stream",
          "name": "stdout",
          "text": [
            "1\n",
            "2\n",
            "3\n",
            "4\n",
            "5\n",
            "6\n",
            "7\n",
            "8\n",
            "9\n",
            "10\n"
          ]
        }
      ]
    },
    {
      "cell_type": "code",
      "source": [
        "# range(Start, End, Skip)\n",
        "\n",
        "for i in range(1, 20, 4) :\n",
        "    print(i)"
      ],
      "metadata": {
        "colab": {
          "base_uri": "https://localhost:8080/"
        },
        "id": "h_f8VLqXgRYT",
        "outputId": "3d8aae2c-fee8-408f-ca59-5bac951fa17e"
      },
      "execution_count": null,
      "outputs": [
        {
          "output_type": "stream",
          "name": "stdout",
          "text": [
            "1\n",
            "5\n",
            "9\n",
            "13\n",
            "17\n"
          ]
        }
      ]
    },
    {
      "cell_type": "code",
      "source": [
        "for x in 'Gandhinagar' :\n",
        "    print(x)"
      ],
      "metadata": {
        "colab": {
          "base_uri": "https://localhost:8080/"
        },
        "id": "t1vCJJhtggoT",
        "outputId": "152366e6-2c3e-4af3-c42d-20b6c3b0973b"
      },
      "execution_count": null,
      "outputs": [
        {
          "output_type": "stream",
          "name": "stdout",
          "text": [
            "G\n",
            "a\n",
            "n\n",
            "d\n",
            "h\n",
            "i\n",
            "n\n",
            "a\n",
            "g\n",
            "a\n",
            "r\n"
          ]
        }
      ]
    },
    {
      "cell_type": "code",
      "source": [
        "for a in [10, 11, 15] :\n",
        "    print(a)"
      ],
      "metadata": {
        "colab": {
          "base_uri": "https://localhost:8080/"
        },
        "id": "loVJ1oPfgmfz",
        "outputId": "405c718a-58fb-47f6-f3d9-a75f54142c08"
      },
      "execution_count": null,
      "outputs": [
        {
          "output_type": "stream",
          "name": "stdout",
          "text": [
            "10\n",
            "11\n",
            "15\n"
          ]
        }
      ]
    },
    {
      "cell_type": "markdown",
      "source": [
        "# **Loop Control Statements**"
      ],
      "metadata": {
        "id": "nMlhEUn_g8fi"
      }
    },
    {
      "cell_type": "markdown",
      "source": [
        "* Break\n",
        "* Contoinue\n",
        "* Pass"
      ],
      "metadata": {
        "id": "cC-L1K7yhCfL"
      }
    },
    {
      "cell_type": "code",
      "source": [
        "i = 20\n",
        "\n",
        "while i < 30 :\n",
        "    print(i)\n",
        "\n",
        "    if i == 25 :\n",
        "        break\n",
        "    \n",
        "    i = i+1"
      ],
      "metadata": {
        "colab": {
          "base_uri": "https://localhost:8080/"
        },
        "id": "b0uxkH7Xgr4i",
        "outputId": "2fabf9dd-8b45-4af6-916e-22803c03c135"
      },
      "execution_count": null,
      "outputs": [
        {
          "output_type": "stream",
          "name": "stdout",
          "text": [
            "20\n",
            "21\n",
            "22\n",
            "23\n",
            "24\n",
            "25\n"
          ]
        }
      ]
    },
    {
      "cell_type": "code",
      "source": [
        "for i in range(1, 6):\n",
        "    if i == 3:\n",
        "        continue\n",
        "    print(i)\n",
        "    i += 1"
      ],
      "metadata": {
        "colab": {
          "base_uri": "https://localhost:8080/"
        },
        "id": "tnqUs58_88KX",
        "outputId": "bf7084c8-bed7-45da-caae-63cd1dce3876"
      },
      "execution_count": null,
      "outputs": [
        {
          "output_type": "stream",
          "name": "stdout",
          "text": [
            "1\n",
            "2\n",
            "4\n",
            "5\n"
          ]
        }
      ]
    },
    {
      "cell_type": "code",
      "source": [
        "for i in range(1, 10):\n",
        "    pass"
      ],
      "metadata": {
        "id": "37_fs8iA9RyR"
      },
      "execution_count": null,
      "outputs": []
    }
  ]
}