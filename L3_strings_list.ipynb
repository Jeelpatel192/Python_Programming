{
  "nbformat": 4,
  "nbformat_minor": 0,
  "metadata": {
    "colab": {
      "provenance": [],
      "authorship_tag": "ABX9TyMuuzqq8Fv+4CL9a1fLQrtU",
      "include_colab_link": true
    },
    "kernelspec": {
      "name": "python3",
      "display_name": "Python 3"
    },
    "language_info": {
      "name": "python"
    }
  },
  "cells": [
    {
      "cell_type": "markdown",
      "metadata": {
        "id": "view-in-github",
        "colab_type": "text"
      },
      "source": [
        "<a href=\"https://colab.research.google.com/github/Jeelpatel192/Python_Programming/blob/main/L3_strings_list.ipynb\" target=\"_parent\"><img src=\"https://colab.research.google.com/assets/colab-badge.svg\" alt=\"Open In Colab\"/></a>"
      ]
    },
    {
      "cell_type": "markdown",
      "source": [
        "Strings are sequence of Characters\n",
        "\n",
        "In Python specially, strings are a sequence of Unicode Characters\n",
        "* Creting Strings\n",
        "*Accessing Strings\n",
        "* Adding Chars to Strings\n",
        "*Editing Strings\n",
        "*Deleting Strings\n",
        "*Operations on Strings\n",
        "*String Functios"
      ],
      "metadata": {
        "id": "VDof_l999cKK"
      }
    },
    {
      "cell_type": "markdown",
      "source": [
        "# Creating Strings"
      ],
      "metadata": {
        "id": "83lv9sbK-4hi"
      }
    },
    {
      "cell_type": "code",
      "execution_count": null,
      "metadata": {
        "colab": {
          "base_uri": "https://localhost:8080/"
        },
        "id": "huUf7cZA6ful",
        "outputId": "34d4af74-23b2-4003-ab38-43ee7fa3aff5"
      },
      "outputs": [
        {
          "output_type": "stream",
          "name": "stdout",
          "text": [
            "hello\n",
            "Hey\n"
          ]
        }
      ],
      "source": [
        "s = 'hello'\n",
        "s = \"hello\"\n",
        "s = '''hello'''  #Multiline String\n",
        "print(s)\n",
        "\n",
        "x = str('Hey')\n",
        "print(x)"
      ]
    },
    {
      "cell_type": "markdown",
      "source": [
        "# Accesing Sunstrings from a String"
      ],
      "metadata": {
        "id": "en3aTGpG_H1p"
      }
    },
    {
      "cell_type": "code",
      "source": [
        "# Indexing\n",
        "\n",
        "s = 'Hello World'\n",
        "print(s[0])\n",
        "print(s[1])\n",
        "print(s[2])\n",
        "print(s[3])\n",
        "print(s[4])\n",
        "print(s[5])\n",
        "print(s[6])"
      ],
      "metadata": {
        "colab": {
          "base_uri": "https://localhost:8080/"
        },
        "id": "VbcV24C5_OER",
        "outputId": "9fd4735c-cb22-44f3-f6b3-35bb1e9f9c11"
      },
      "execution_count": null,
      "outputs": [
        {
          "output_type": "stream",
          "name": "stdout",
          "text": [
            "H\n",
            "e\n",
            "l\n",
            "l\n",
            "o\n",
            " \n",
            "W\n"
          ]
        }
      ]
    },
    {
      "cell_type": "code",
      "source": [
        "# Negative Indexing\n",
        "\n",
        "s = 'Hello World'\n",
        "\n",
        "print(s[-1])\n",
        "print(s[-2])\n",
        "print(s[-3])\n",
        "print(s[-4])\n",
        "print(s[-5])\n",
        "print(s[-8])"
      ],
      "metadata": {
        "colab": {
          "base_uri": "https://localhost:8080/"
        },
        "id": "C14Q0rtBYwVi",
        "outputId": "b19420d8-21bb-4dda-d9f2-0c2bec4eb9fa"
      },
      "execution_count": null,
      "outputs": [
        {
          "output_type": "stream",
          "name": "stdout",
          "text": [
            "d\n",
            "l\n",
            "r\n",
            "o\n",
            "W\n",
            "l\n"
          ]
        }
      ]
    },
    {
      "cell_type": "code",
      "source": [
        "# Slicing\n",
        "\n",
        "a = 'Happy Day'\n",
        "\n",
        "# [Start, end]\n",
        "print(a[1:4])\n",
        "print(a[3:9])\n",
        "\n",
        "# [Start, end, skip]\n",
        "print(a[0:9:2])\n",
        "print(a[0:9:4])\n",
        "\n",
        "print(a[10:0:-1]) #reverse the string\n",
        "\n",
        "print(a[6:0:-2])"
      ],
      "metadata": {
        "colab": {
          "base_uri": "https://localhost:8080/"
        },
        "id": "WM0bz0dNZAhp",
        "outputId": "1bf67eef-5c6a-452f-ae77-0ea436269997"
      },
      "execution_count": null,
      "outputs": [
        {
          "output_type": "stream",
          "name": "stdout",
          "text": [
            "app\n",
            "py Day\n",
            "HpyDy\n",
            "Hyy\n",
            "yaD yppa\n",
            "Dyp\n"
          ]
        }
      ]
    },
    {
      "cell_type": "markdown",
      "source": [
        "# Editing and Deleting in Strings"
      ],
      "metadata": {
        "id": "BINqo7OLaCkp"
      }
    },
    {
      "cell_type": "code",
      "source": [
        "s = 'good morning'\n",
        "print(s)\n",
        "\n",
        "s[0] = 'G'\n",
        "print(s)\n",
        "\n",
        "# Strings in python are inmutable means can't editable"
      ],
      "metadata": {
        "colab": {
          "base_uri": "https://localhost:8080/",
          "height": 252
        },
        "id": "Jyu7l4fvaGkg",
        "outputId": "45369845-a7c7-49b7-c6fd-f295756ad818"
      },
      "execution_count": null,
      "outputs": [
        {
          "output_type": "stream",
          "name": "stdout",
          "text": [
            "good morning\n"
          ]
        },
        {
          "output_type": "error",
          "ename": "TypeError",
          "evalue": "ignored",
          "traceback": [
            "\u001b[0;31m---------------------------------------------------------------------------\u001b[0m",
            "\u001b[0;31mTypeError\u001b[0m                                 Traceback (most recent call last)",
            "\u001b[0;32m<ipython-input-18-1b8e29e84cde>\u001b[0m in \u001b[0;36m<cell line: 4>\u001b[0;34m()\u001b[0m\n\u001b[1;32m      2\u001b[0m \u001b[0mprint\u001b[0m\u001b[0;34m(\u001b[0m\u001b[0ms\u001b[0m\u001b[0;34m)\u001b[0m\u001b[0;34m\u001b[0m\u001b[0;34m\u001b[0m\u001b[0m\n\u001b[1;32m      3\u001b[0m \u001b[0;34m\u001b[0m\u001b[0m\n\u001b[0;32m----> 4\u001b[0;31m \u001b[0ms\u001b[0m\u001b[0;34m[\u001b[0m\u001b[0;36m0\u001b[0m\u001b[0;34m]\u001b[0m \u001b[0;34m=\u001b[0m \u001b[0;34m'G'\u001b[0m\u001b[0;34m\u001b[0m\u001b[0;34m\u001b[0m\u001b[0m\n\u001b[0m\u001b[1;32m      5\u001b[0m \u001b[0mprint\u001b[0m\u001b[0;34m(\u001b[0m\u001b[0ms\u001b[0m\u001b[0;34m)\u001b[0m\u001b[0;34m\u001b[0m\u001b[0;34m\u001b[0m\u001b[0m\n\u001b[1;32m      6\u001b[0m \u001b[0;34m\u001b[0m\u001b[0m\n",
            "\u001b[0;31mTypeError\u001b[0m: 'str' object does not support item assignment"
          ]
        }
      ]
    },
    {
      "cell_type": "code",
      "source": [
        "a = 'Good'\n",
        "print(a)\n",
        "\n",
        "del a\n",
        "print(a)"
      ],
      "metadata": {
        "colab": {
          "base_uri": "https://localhost:8080/",
          "height": 217
        },
        "id": "dNG-8Jwbaenn",
        "outputId": "98facb6e-d45a-463a-8158-2b8638f18e1f"
      },
      "execution_count": null,
      "outputs": [
        {
          "output_type": "stream",
          "name": "stdout",
          "text": [
            "Good\n"
          ]
        },
        {
          "output_type": "error",
          "ename": "NameError",
          "evalue": "ignored",
          "traceback": [
            "\u001b[0;31m---------------------------------------------------------------------------\u001b[0m",
            "\u001b[0;31mNameError\u001b[0m                                 Traceback (most recent call last)",
            "\u001b[0;32m<ipython-input-20-97eb061eb556>\u001b[0m in \u001b[0;36m<cell line: 5>\u001b[0;34m()\u001b[0m\n\u001b[1;32m      3\u001b[0m \u001b[0;34m\u001b[0m\u001b[0m\n\u001b[1;32m      4\u001b[0m \u001b[0;32mdel\u001b[0m \u001b[0ma\u001b[0m\u001b[0;34m\u001b[0m\u001b[0;34m\u001b[0m\u001b[0m\n\u001b[0;32m----> 5\u001b[0;31m \u001b[0mprint\u001b[0m\u001b[0;34m(\u001b[0m\u001b[0ma\u001b[0m\u001b[0;34m)\u001b[0m\u001b[0;34m\u001b[0m\u001b[0;34m\u001b[0m\u001b[0m\n\u001b[0m",
            "\u001b[0;31mNameError\u001b[0m: name 'a' is not defined"
          ]
        }
      ]
    },
    {
      "cell_type": "markdown",
      "source": [
        "# Operations on strings"
      ],
      "metadata": {
        "id": "b85QU0Rmas5u"
      }
    },
    {
      "cell_type": "markdown",
      "source": [
        "* Arithmetic Operations\n",
        "*Relational Operations\n",
        "*Logical Operations\n",
        "*Loops on Stringd\n",
        "*Membership Operations"
      ],
      "metadata": {
        "id": "Vbt5x1UWavWu"
      }
    },
    {
      "cell_type": "code",
      "source": [
        "print('Delhi' + ' ' + 'Mumbai')"
      ],
      "metadata": {
        "colab": {
          "base_uri": "https://localhost:8080/"
        },
        "id": "mcCd4A-fa-OW",
        "outputId": "757bbcdc-bdf5-4f46-aade-996e02a206e7"
      },
      "execution_count": null,
      "outputs": [
        {
          "output_type": "stream",
          "name": "stdout",
          "text": [
            "Delhi Mumbai\n"
          ]
        }
      ]
    },
    {
      "cell_type": "code",
      "source": [
        "print('Jeel'*3)"
      ],
      "metadata": {
        "colab": {
          "base_uri": "https://localhost:8080/"
        },
        "id": "-Yd-hhoAbGHN",
        "outputId": "0df880f4-99e3-4392-d670-feae56d5406c"
      },
      "execution_count": null,
      "outputs": [
        {
          "output_type": "stream",
          "name": "stdout",
          "text": [
            "JeelJeelJeel\n"
          ]
        }
      ]
    },
    {
      "cell_type": "code",
      "source": [
        "print('* '*15)"
      ],
      "metadata": {
        "colab": {
          "base_uri": "https://localhost:8080/"
        },
        "id": "ZFftiJZpbMzM",
        "outputId": "503af60e-50eb-4439-aa63-fd64960d0b1c"
      },
      "execution_count": null,
      "outputs": [
        {
          "output_type": "stream",
          "name": "stdout",
          "text": [
            "* * * * * * * * * * * * * * * \n"
          ]
        }
      ]
    },
    {
      "cell_type": "code",
      "source": [
        "'Gnagar' == 'Ahmedabad'"
      ],
      "metadata": {
        "colab": {
          "base_uri": "https://localhost:8080/"
        },
        "id": "eKcSlu0fbU6B",
        "outputId": "1ef1231e-0ba1-494d-866b-01945eb5509d"
      },
      "execution_count": null,
      "outputs": [
        {
          "output_type": "execute_result",
          "data": {
            "text/plain": [
              "False"
            ]
          },
          "metadata": {},
          "execution_count": 24
        }
      ]
    },
    {
      "cell_type": "code",
      "source": [
        "'Mansa' > 'Vijapur'\n",
        "\n",
        "# lexiographically means based on ASCII"
      ],
      "metadata": {
        "colab": {
          "base_uri": "https://localhost:8080/"
        },
        "id": "NxKif-UYbYWn",
        "outputId": "959c3817-d6a9-4d70-c746-f83490867c73"
      },
      "execution_count": null,
      "outputs": [
        {
          "output_type": "execute_result",
          "data": {
            "text/plain": [
              "False"
            ]
          },
          "metadata": {},
          "execution_count": 25
        }
      ]
    },
    {
      "cell_type": "code",
      "source": [
        "'Mansa' < 'Vijapur'"
      ],
      "metadata": {
        "colab": {
          "base_uri": "https://localhost:8080/"
        },
        "id": "YLoMCCesbcu_",
        "outputId": "0e474ca9-e1d7-4166-9678-2f0b4e1cbb15"
      },
      "execution_count": null,
      "outputs": [
        {
          "output_type": "execute_result",
          "data": {
            "text/plain": [
              "True"
            ]
          },
          "metadata": {},
          "execution_count": 26
        }
      ]
    },
    {
      "cell_type": "code",
      "source": [
        "'hello' and 'world'"
      ],
      "metadata": {
        "colab": {
          "base_uri": "https://localhost:8080/",
          "height": 36
        },
        "id": "XP62OWCdborn",
        "outputId": "84aa8d0e-8cb8-49ab-a03e-7d27210e420b"
      },
      "execution_count": null,
      "outputs": [
        {
          "output_type": "execute_result",
          "data": {
            "text/plain": [
              "'world'"
            ],
            "application/vnd.google.colaboratory.intrinsic+json": {
              "type": "string"
            }
          },
          "metadata": {},
          "execution_count": 27
        }
      ]
    },
    {
      "cell_type": "code",
      "source": [
        "'hello' or 'world'"
      ],
      "metadata": {
        "colab": {
          "base_uri": "https://localhost:8080/",
          "height": 36
        },
        "id": "ZYIsgmmZbrjw",
        "outputId": "b1f7bc53-f2c0-4cd9-d1a3-ad8551aaee32"
      },
      "execution_count": null,
      "outputs": [
        {
          "output_type": "execute_result",
          "data": {
            "text/plain": [
              "'hello'"
            ],
            "application/vnd.google.colaboratory.intrinsic+json": {
              "type": "string"
            }
          },
          "metadata": {},
          "execution_count": 29
        }
      ]
    },
    {
      "cell_type": "code",
      "source": [
        "for i in 'Morning' :\n",
        "    print(i)"
      ],
      "metadata": {
        "colab": {
          "base_uri": "https://localhost:8080/"
        },
        "id": "eGihgZ6cjM5S",
        "outputId": "b83ae2dc-5b0a-4d34-a0b3-29d09b38b07c"
      },
      "execution_count": null,
      "outputs": [
        {
          "output_type": "stream",
          "name": "stdout",
          "text": [
            "M\n",
            "o\n",
            "r\n",
            "n\n",
            "i\n",
            "n\n",
            "g\n"
          ]
        }
      ]
    },
    {
      "cell_type": "code",
      "source": [
        "for i in 'delhi' :\n",
        "  print('pune')"
      ],
      "metadata": {
        "colab": {
          "base_uri": "https://localhost:8080/"
        },
        "id": "-wCOT_afjYkY",
        "outputId": "a23fa7f2-0972-4621-83e5-072161a25cb3"
      },
      "execution_count": null,
      "outputs": [
        {
          "output_type": "stream",
          "name": "stdout",
          "text": [
            "pune\n",
            "pune\n",
            "pune\n",
            "pune\n",
            "pune\n"
          ]
        }
      ]
    },
    {
      "cell_type": "code",
      "source": [
        "'D' in 'Delhi'"
      ],
      "metadata": {
        "colab": {
          "base_uri": "https://localhost:8080/"
        },
        "id": "Fu7H7RXKjfKW",
        "outputId": "23574a79-1391-4493-9e8b-5962fbffe67c"
      },
      "execution_count": null,
      "outputs": [
        {
          "output_type": "execute_result",
          "data": {
            "text/plain": [
              "True"
            ]
          },
          "metadata": {},
          "execution_count": 33
        }
      ]
    },
    {
      "cell_type": "code",
      "source": [
        "'d' in 'Delhi'"
      ],
      "metadata": {
        "colab": {
          "base_uri": "https://localhost:8080/"
        },
        "id": "nyr7iK7Ljhmz",
        "outputId": "b92881ed-c1ea-4a16-f7c7-70d9646d7667"
      },
      "execution_count": null,
      "outputs": [
        {
          "output_type": "execute_result",
          "data": {
            "text/plain": [
              "False"
            ]
          },
          "metadata": {},
          "execution_count": 34
        }
      ]
    },
    {
      "cell_type": "markdown",
      "source": [
        "# Common Functions"
      ],
      "metadata": {
        "id": "cwSoAQXEjm56"
      }
    },
    {
      "cell_type": "markdown",
      "source": [
        "* len\n",
        "*max\n",
        "*min\n",
        "*sorted"
      ],
      "metadata": {
        "id": "1eYJVd4Zjp7R"
      }
    },
    {
      "cell_type": "code",
      "source": [
        "# len function is used to find the length of the string \n",
        "\n",
        "a = 'Lonavala'\n",
        "print(len(a))"
      ],
      "metadata": {
        "colab": {
          "base_uri": "https://localhost:8080/"
        },
        "id": "pcBv59TPjvQL",
        "outputId": "325ba29f-8977-480d-e245-2304f00094a0"
      },
      "execution_count": null,
      "outputs": [
        {
          "output_type": "stream",
          "name": "stdout",
          "text": [
            "8\n"
          ]
        }
      ]
    },
    {
      "cell_type": "code",
      "source": [
        "# max function is used to find the character based on maximum ASCII value\n",
        "\n",
        "x = 'hello world'\n",
        "print(max(x))"
      ],
      "metadata": {
        "colab": {
          "base_uri": "https://localhost:8080/"
        },
        "id": "MgBoXuzTj1JC",
        "outputId": "df8a7454-1ef5-4d62-8cb8-083826fee70c"
      },
      "execution_count": null,
      "outputs": [
        {
          "output_type": "stream",
          "name": "stdout",
          "text": [
            "w\n"
          ]
        }
      ]
    },
    {
      "cell_type": "code",
      "source": [
        "# min function is used to find the character based on minimum ASCII value\n",
        "\n",
        "x = 'helloworld'\n",
        "print(min(x))"
      ],
      "metadata": {
        "colab": {
          "base_uri": "https://localhost:8080/"
        },
        "id": "j3WYv3Ykj1OV",
        "outputId": "9974eefc-cdd8-4235-8eda-43fc72f45ecd"
      },
      "execution_count": null,
      "outputs": [
        {
          "output_type": "stream",
          "name": "stdout",
          "text": [
            "d\n"
          ]
        }
      ]
    },
    {
      "cell_type": "code",
      "source": [
        "# sorted function is used to sort the characters based on ASCII value in Ascending order\n",
        "\n",
        "sorted('Good Morning')"
      ],
      "metadata": {
        "colab": {
          "base_uri": "https://localhost:8080/"
        },
        "id": "MuUPyQx7kZB4",
        "outputId": "e4b424a3-dfd3-49ec-a2f1-5f0646f76f83"
      },
      "execution_count": null,
      "outputs": [
        {
          "output_type": "execute_result",
          "data": {
            "text/plain": [
              "[' ', 'G', 'M', 'd', 'g', 'i', 'n', 'n', 'o', 'o', 'o', 'r']"
            ]
          },
          "metadata": {},
          "execution_count": 39
        }
      ]
    },
    {
      "cell_type": "code",
      "source": [
        "# sort the characters based on ASCII value in Desending order\n",
        "\n",
        "sorted('Good Morning', reverse = True)"
      ],
      "metadata": {
        "colab": {
          "base_uri": "https://localhost:8080/"
        },
        "id": "8otmxPKHktps",
        "outputId": "b527c41e-9913-4c74-cfef-f48ce244806b"
      },
      "execution_count": null,
      "outputs": [
        {
          "output_type": "execute_result",
          "data": {
            "text/plain": [
              "['r', 'o', 'o', 'o', 'n', 'n', 'i', 'g', 'd', 'M', 'G', ' ']"
            ]
          },
          "metadata": {},
          "execution_count": 40
        }
      ]
    },
    {
      "cell_type": "markdown",
      "source": [
        "# Capitalize / Title / Upper / Lower / Swapcase"
      ],
      "metadata": {
        "id": "6DPe0lM8lClc"
      }
    },
    {
      "cell_type": "code",
      "source": [
        "# convert first character into Uppercase \n",
        "\n",
        "s = 'jeel patel'\n",
        "s.capitalize()"
      ],
      "metadata": {
        "colab": {
          "base_uri": "https://localhost:8080/",
          "height": 36
        },
        "id": "ajaT_g4hlKhi",
        "outputId": "0f4c9d50-14f4-4b70-8029-0a3334b0e22a"
      },
      "execution_count": null,
      "outputs": [
        {
          "output_type": "execute_result",
          "data": {
            "text/plain": [
              "'Jeel patel'"
            ],
            "application/vnd.google.colaboratory.intrinsic+json": {
              "type": "string"
            }
          },
          "metadata": {},
          "execution_count": 42
        }
      ]
    },
    {
      "cell_type": "code",
      "source": [
        "s.title()"
      ],
      "metadata": {
        "colab": {
          "base_uri": "https://localhost:8080/",
          "height": 36
        },
        "id": "Bp5GPQvKlQtx",
        "outputId": "d713e58f-38ba-44da-925f-0fceb74290ab"
      },
      "execution_count": null,
      "outputs": [
        {
          "output_type": "execute_result",
          "data": {
            "text/plain": [
              "'Jeel Patel'"
            ],
            "application/vnd.google.colaboratory.intrinsic+json": {
              "type": "string"
            }
          },
          "metadata": {},
          "execution_count": 43
        }
      ]
    },
    {
      "cell_type": "code",
      "source": [
        "# convert all characters into Upper case\n",
        "\n",
        "s.upper()"
      ],
      "metadata": {
        "colab": {
          "base_uri": "https://localhost:8080/",
          "height": 36
        },
        "id": "EnpqFggNlQwm",
        "outputId": "e06cf4ef-4e02-4f52-ace5-f9f71a624250"
      },
      "execution_count": null,
      "outputs": [
        {
          "output_type": "execute_result",
          "data": {
            "text/plain": [
              "'JEEL PATEL'"
            ],
            "application/vnd.google.colaboratory.intrinsic+json": {
              "type": "string"
            }
          },
          "metadata": {},
          "execution_count": 44
        }
      ]
    },
    {
      "cell_type": "code",
      "source": [
        "# convert all characters into Lower case\n",
        "\n",
        "'GOOD'.lower()"
      ],
      "metadata": {
        "colab": {
          "base_uri": "https://localhost:8080/",
          "height": 36
        },
        "id": "GiqTfl92m-Np",
        "outputId": "a8c93e88-ac84-46aa-8fde-b79cc2d52ecb"
      },
      "execution_count": null,
      "outputs": [
        {
          "output_type": "execute_result",
          "data": {
            "text/plain": [
              "'good'"
            ],
            "application/vnd.google.colaboratory.intrinsic+json": {
              "type": "string"
            }
          },
          "metadata": {},
          "execution_count": 47
        }
      ]
    },
    {
      "cell_type": "code",
      "source": [
        "# convert lower to upper and upper to lower\n",
        "\n",
        "'HeLlo woRlD'.swapcase()"
      ],
      "metadata": {
        "colab": {
          "base_uri": "https://localhost:8080/",
          "height": 36
        },
        "id": "VvOkQ1cnnNfo",
        "outputId": "af0de685-aa16-4ced-a05d-8d03c4aac4d0"
      },
      "execution_count": null,
      "outputs": [
        {
          "output_type": "execute_result",
          "data": {
            "text/plain": [
              "'hElLO WOrLd'"
            ],
            "application/vnd.google.colaboratory.intrinsic+json": {
              "type": "string"
            }
          },
          "metadata": {},
          "execution_count": 48
        }
      ]
    },
    {
      "cell_type": "markdown",
      "source": [
        "# Count / Find / Index"
      ],
      "metadata": {
        "id": "GS1yf914lMIY"
      }
    },
    {
      "cell_type": "code",
      "source": [
        "'my name is khushi'.count(i)"
      ],
      "metadata": {
        "colab": {
          "base_uri": "https://localhost:8080/"
        },
        "id": "LhWgfzcAnZpU",
        "outputId": "3dd52db8-706b-4594-cea5-41973a6de015"
      },
      "execution_count": null,
      "outputs": [
        {
          "output_type": "execute_result",
          "data": {
            "text/plain": [
              "2"
            ]
          },
          "metadata": {},
          "execution_count": 54
        }
      ]
    },
    {
      "cell_type": "code",
      "source": [
        "# return the index \n",
        "\n",
        "'my name is khushi'.find('is')"
      ],
      "metadata": {
        "colab": {
          "base_uri": "https://localhost:8080/"
        },
        "id": "NOvf25xMnbqs",
        "outputId": "12c48745-9a0b-4bc8-9edd-319cc03dce78"
      },
      "execution_count": null,
      "outputs": [
        {
          "output_type": "execute_result",
          "data": {
            "text/plain": [
              "8"
            ]
          },
          "metadata": {},
          "execution_count": 52
        }
      ]
    },
    {
      "cell_type": "code",
      "source": [
        "'my name is khushi'.find('x')\n",
        "\n",
        "# x is not exists"
      ],
      "metadata": {
        "colab": {
          "base_uri": "https://localhost:8080/"
        },
        "id": "S0_ZZLJEnbtl",
        "outputId": "096d2f45-0728-41bf-f638-e0be46169834"
      },
      "execution_count": null,
      "outputs": [
        {
          "output_type": "execute_result",
          "data": {
            "text/plain": [
              "-1"
            ]
          },
          "metadata": {},
          "execution_count": 53
        }
      ]
    },
    {
      "cell_type": "code",
      "source": [
        "'my name is khushi'.index('u')\n",
        "\n",
        "# return the index of given character"
      ],
      "metadata": {
        "colab": {
          "base_uri": "https://localhost:8080/"
        },
        "id": "W7VaeJzhnby7",
        "outputId": "21ad2407-4172-401a-d610-265031452523"
      },
      "execution_count": null,
      "outputs": [
        {
          "output_type": "execute_result",
          "data": {
            "text/plain": [
              "13"
            ]
          },
          "metadata": {},
          "execution_count": 55
        }
      ]
    },
    {
      "cell_type": "code",
      "source": [
        "'my name is khushi'.index('c')"
      ],
      "metadata": {
        "colab": {
          "base_uri": "https://localhost:8080/",
          "height": 165
        },
        "id": "8FJVFvrHnb1e",
        "outputId": "7bc1d229-2fed-4dc9-b3b0-891bbfa2a2a3"
      },
      "execution_count": null,
      "outputs": [
        {
          "output_type": "error",
          "ename": "ValueError",
          "evalue": "ignored",
          "traceback": [
            "\u001b[0;31m---------------------------------------------------------------------------\u001b[0m",
            "\u001b[0;31mValueError\u001b[0m                                Traceback (most recent call last)",
            "\u001b[0;32m<ipython-input-56-406b1681b8a5>\u001b[0m in \u001b[0;36m<cell line: 1>\u001b[0;34m()\u001b[0m\n\u001b[0;32m----> 1\u001b[0;31m \u001b[0;34m'my name is khushi'\u001b[0m\u001b[0;34m.\u001b[0m\u001b[0mindex\u001b[0m\u001b[0;34m(\u001b[0m\u001b[0;34m'c'\u001b[0m\u001b[0;34m)\u001b[0m\u001b[0;34m\u001b[0m\u001b[0;34m\u001b[0m\u001b[0m\n\u001b[0m",
            "\u001b[0;31mValueError\u001b[0m: substring not found"
          ]
        }
      ]
    },
    {
      "cell_type": "markdown",
      "source": [
        "# endswith / startswith"
      ],
      "metadata": {
        "id": "4NnFJQkSoSYr"
      }
    },
    {
      "cell_type": "code",
      "source": [
        "'my name is khushi'.startswith('my')"
      ],
      "metadata": {
        "colab": {
          "base_uri": "https://localhost:8080/"
        },
        "id": "64FYHcTAoXEy",
        "outputId": "59dc147e-b45c-4da0-c9a0-5c1d5948af83"
      },
      "execution_count": null,
      "outputs": [
        {
          "output_type": "execute_result",
          "data": {
            "text/plain": [
              "True"
            ]
          },
          "metadata": {},
          "execution_count": 57
        }
      ]
    },
    {
      "cell_type": "code",
      "source": [
        "'my name is khushi'.startswith('hii')"
      ],
      "metadata": {
        "colab": {
          "base_uri": "https://localhost:8080/"
        },
        "id": "0OoiWwrsoXHl",
        "outputId": "7ea62357-4396-415d-c0c2-01e783b6ee0f"
      },
      "execution_count": null,
      "outputs": [
        {
          "output_type": "execute_result",
          "data": {
            "text/plain": [
              "False"
            ]
          },
          "metadata": {},
          "execution_count": 58
        }
      ]
    },
    {
      "cell_type": "code",
      "source": [
        "'my name is khushi'.endswith('shi')"
      ],
      "metadata": {
        "colab": {
          "base_uri": "https://localhost:8080/"
        },
        "id": "B1kqkqSSog0I",
        "outputId": "10cb907d-fcb0-4cc7-a873-a6c1cef32c9a"
      },
      "execution_count": null,
      "outputs": [
        {
          "output_type": "execute_result",
          "data": {
            "text/plain": [
              "True"
            ]
          },
          "metadata": {},
          "execution_count": 59
        }
      ]
    },
    {
      "cell_type": "code",
      "source": [
        "'my name is khushi'.endswith('x')"
      ],
      "metadata": {
        "colab": {
          "base_uri": "https://localhost:8080/"
        },
        "id": "SkAm39scog3P",
        "outputId": "c9938b7b-3675-485f-cd2b-9f4ba1693732"
      },
      "execution_count": null,
      "outputs": [
        {
          "output_type": "execute_result",
          "data": {
            "text/plain": [
              "False"
            ]
          },
          "metadata": {},
          "execution_count": 60
        }
      ]
    },
    {
      "cell_type": "markdown",
      "source": [
        "# Format"
      ],
      "metadata": {
        "id": "ywGN0HiSooWQ"
      }
    },
    {
      "cell_type": "code",
      "source": [
        "# smart way to inserting values in variable name\n",
        "\n",
        "name = 'Jeel'\n",
        "gender = 'Male'\n",
        "\n",
        "'Hi my name is {} and I am a {}'.format(name, gender)"
      ],
      "metadata": {
        "colab": {
          "base_uri": "https://localhost:8080/",
          "height": 36
        },
        "id": "k-Ey5epjopuE",
        "outputId": "6e9eeac8-60a9-43c3-d358-3c717dead852"
      },
      "execution_count": null,
      "outputs": [
        {
          "output_type": "execute_result",
          "data": {
            "text/plain": [
              "'Hi my name is Jeel and I am a Male'"
            ],
            "application/vnd.google.colaboratory.intrinsic+json": {
              "type": "string"
            }
          },
          "metadata": {},
          "execution_count": 61
        }
      ]
    },
    {
      "cell_type": "markdown",
      "source": [
        "# isalnum / isalpha / isdigit / isidentifier"
      ],
      "metadata": {
        "id": "AFDdiym3oryP"
      }
    },
    {
      "cell_type": "code",
      "source": [
        "# alnum checks alpha numeric or not\n",
        "\n",
        "'jeel123'.isalnum()"
      ],
      "metadata": {
        "id": "MazT1XESoyJD",
        "colab": {
          "base_uri": "https://localhost:8080/"
        },
        "outputId": "b077cf95-44db-4780-8d34-0c55490ae624"
      },
      "execution_count": null,
      "outputs": [
        {
          "output_type": "execute_result",
          "data": {
            "text/plain": [
              "True"
            ]
          },
          "metadata": {},
          "execution_count": 5
        }
      ]
    },
    {
      "cell_type": "code",
      "source": [
        "'jeel@123'.isalnum()"
      ],
      "metadata": {
        "id": "wrAQWpL1pY-e",
        "colab": {
          "base_uri": "https://localhost:8080/"
        },
        "outputId": "76cb508f-1431-4886-99e3-0820692aa7dd"
      },
      "execution_count": null,
      "outputs": [
        {
          "output_type": "execute_result",
          "data": {
            "text/plain": [
              "False"
            ]
          },
          "metadata": {},
          "execution_count": 4
        }
      ]
    },
    {
      "cell_type": "code",
      "source": [
        "'cool'.isalpha()"
      ],
      "metadata": {
        "id": "JllfLHQbpZBP",
        "colab": {
          "base_uri": "https://localhost:8080/"
        },
        "outputId": "cb9d478c-fa1a-416f-a63c-07c49491bc80"
      },
      "execution_count": null,
      "outputs": [
        {
          "output_type": "execute_result",
          "data": {
            "text/plain": [
              "True"
            ]
          },
          "metadata": {},
          "execution_count": 3
        }
      ]
    },
    {
      "cell_type": "code",
      "source": [
        "'heyy'.isdigit()"
      ],
      "metadata": {
        "id": "HjvZrscupZE_",
        "colab": {
          "base_uri": "https://localhost:8080/"
        },
        "outputId": "f4d29904-0f90-439f-cb99-e4014b32a408"
      },
      "execution_count": null,
      "outputs": [
        {
          "output_type": "execute_result",
          "data": {
            "text/plain": [
              "False"
            ]
          },
          "metadata": {},
          "execution_count": 2
        }
      ]
    },
    {
      "cell_type": "code",
      "source": [
        "'123'.isdigit()"
      ],
      "metadata": {
        "colab": {
          "base_uri": "https://localhost:8080/"
        },
        "id": "s6Svahr5SkY5",
        "outputId": "1f79986f-42f2-4ff5-bfc8-38754c28b835"
      },
      "execution_count": null,
      "outputs": [
        {
          "output_type": "execute_result",
          "data": {
            "text/plain": [
              "True"
            ]
          },
          "metadata": {},
          "execution_count": 1
        }
      ]
    },
    {
      "cell_type": "code",
      "source": [
        "'first-name'.isidentifier()"
      ],
      "metadata": {
        "colab": {
          "base_uri": "https://localhost:8080/"
        },
        "id": "yzClgwJWSyle",
        "outputId": "f22d3d78-37b6-4a1a-d6ec-e9699dbb0931"
      },
      "execution_count": null,
      "outputs": [
        {
          "output_type": "execute_result",
          "data": {
            "text/plain": [
              "False"
            ]
          },
          "metadata": {},
          "execution_count": 6
        }
      ]
    },
    {
      "cell_type": "markdown",
      "source": [
        "# Split / Join"
      ],
      "metadata": {
        "id": "eZ3-uM5nS6Jt"
      }
    },
    {
      "cell_type": "code",
      "source": [
        "# split function is break the sentence word-by-word and stores in a list\n",
        "\n",
        "'Today is a Good day'.split()"
      ],
      "metadata": {
        "colab": {
          "base_uri": "https://localhost:8080/"
        },
        "id": "KUHdyfmfS89d",
        "outputId": "214b7c84-d26b-42d0-8a3e-ec611ba1a3b0"
      },
      "execution_count": null,
      "outputs": [
        {
          "output_type": "execute_result",
          "data": {
            "text/plain": [
              "['Today', 'is', 'a', 'Good', 'day']"
            ]
          },
          "metadata": {},
          "execution_count": 7
        }
      ]
    },
    {
      "cell_type": "code",
      "source": [
        "# here, split function breaks the sentence based on 'o'\n",
        "\n",
        "'Today is a Good day'.split('o')"
      ],
      "metadata": {
        "colab": {
          "base_uri": "https://localhost:8080/"
        },
        "id": "Nypp0sIjS9AZ",
        "outputId": "4cf0c531-8a07-4724-bffb-abc4108bb39e"
      },
      "execution_count": null,
      "outputs": [
        {
          "output_type": "execute_result",
          "data": {
            "text/plain": [
              "['T', 'day is a G', '', 'd day']"
            ]
          },
          "metadata": {},
          "execution_count": 8
        }
      ]
    },
    {
      "cell_type": "code",
      "source": [
        "# join is basically reverse of join \n",
        "\n",
        "' '.join(['Today', 'is', 'a', 'Good', 'day'])"
      ],
      "metadata": {
        "colab": {
          "base_uri": "https://localhost:8080/",
          "height": 36
        },
        "id": "TWIxZegOTiGE",
        "outputId": "f3125fca-d950-42e9-bcbb-afbf077ae15d"
      },
      "execution_count": null,
      "outputs": [
        {
          "output_type": "execute_result",
          "data": {
            "text/plain": [
              "'Today is a Good day'"
            ],
            "application/vnd.google.colaboratory.intrinsic+json": {
              "type": "string"
            }
          },
          "metadata": {},
          "execution_count": 10
        }
      ]
    },
    {
      "cell_type": "code",
      "source": [
        "'-'.join(['Today', 'is', 'a', 'Good', 'day'])"
      ],
      "metadata": {
        "colab": {
          "base_uri": "https://localhost:8080/",
          "height": 36
        },
        "id": "gugzTZo4TzPO",
        "outputId": "7b5a3a90-5265-4931-e706-2d7df429a2c8"
      },
      "execution_count": null,
      "outputs": [
        {
          "output_type": "execute_result",
          "data": {
            "text/plain": [
              "'Today-is-a-Good-day'"
            ],
            "application/vnd.google.colaboratory.intrinsic+json": {
              "type": "string"
            }
          },
          "metadata": {},
          "execution_count": 11
        }
      ]
    },
    {
      "cell_type": "markdown",
      "source": [
        "# Replace"
      ],
      "metadata": {
        "id": "VnxzqHbJT2Vx"
      }
    },
    {
      "cell_type": "code",
      "source": [
        "# replace function is used to replace the word\n",
        "\n",
        "'Today is a Good day'.replace('Good', 'Bad')"
      ],
      "metadata": {
        "colab": {
          "base_uri": "https://localhost:8080/",
          "height": 36
        },
        "id": "ErOgPOTGT4rQ",
        "outputId": "b952d533-edb8-4d9f-abf1-c4e47da22f28"
      },
      "execution_count": null,
      "outputs": [
        {
          "output_type": "execute_result",
          "data": {
            "text/plain": [
              "'Today is a Bad day'"
            ],
            "application/vnd.google.colaboratory.intrinsic+json": {
              "type": "string"
            }
          },
          "metadata": {},
          "execution_count": 12
        }
      ]
    },
    {
      "cell_type": "code",
      "source": [
        "'Hey, Good Morning'.replace('Morning', \"Evening\")"
      ],
      "metadata": {
        "colab": {
          "base_uri": "https://localhost:8080/",
          "height": 36
        },
        "id": "WD2y8aL6UNhe",
        "outputId": "51713f31-5e11-444f-c42c-b6e72e59bead"
      },
      "execution_count": null,
      "outputs": [
        {
          "output_type": "execute_result",
          "data": {
            "text/plain": [
              "'Hey, Good Evening'"
            ],
            "application/vnd.google.colaboratory.intrinsic+json": {
              "type": "string"
            }
          },
          "metadata": {},
          "execution_count": 13
        }
      ]
    },
    {
      "cell_type": "code",
      "source": [
        "'Hey, Good Morning'.replace('Afternoon', \"Evening\")"
      ],
      "metadata": {
        "colab": {
          "base_uri": "https://localhost:8080/",
          "height": 36
        },
        "outputId": "58e76e38-1c94-4c6d-d4ff-c684585c13e3",
        "id": "G62MWKEYUdO-"
      },
      "execution_count": null,
      "outputs": [
        {
          "output_type": "execute_result",
          "data": {
            "text/plain": [
              "'Hey, Good Morning'"
            ],
            "application/vnd.google.colaboratory.intrinsic+json": {
              "type": "string"
            }
          },
          "metadata": {},
          "execution_count": 14
        }
      ]
    },
    {
      "cell_type": "markdown",
      "source": [
        "# Strip"
      ],
      "metadata": {
        "id": "lvimj9YvT5Pe"
      }
    },
    {
      "cell_type": "code",
      "source": [
        "# strip function removes an extra spaces from the sentence\n",
        "\n",
        "'Collage         '.strip()"
      ],
      "metadata": {
        "colab": {
          "base_uri": "https://localhost:8080/",
          "height": 36
        },
        "id": "yUT8WPk1T6ZH",
        "outputId": "7e533799-3200-46fd-c1d7-351b5a69adeb"
      },
      "execution_count": null,
      "outputs": [
        {
          "output_type": "execute_result",
          "data": {
            "text/plain": [
              "'Collage'"
            ],
            "application/vnd.google.colaboratory.intrinsic+json": {
              "type": "string"
            }
          },
          "metadata": {},
          "execution_count": 15
        }
      ]
    },
    {
      "cell_type": "markdown",
      "source": [
        "# Example Programs"
      ],
      "metadata": {
        "id": "2UmkTUjSUwn-"
      }
    },
    {
      "cell_type": "code",
      "source": [
        "# Find the length of a given string without using the len() function\n",
        "\n",
        "s = input('Enter string : ')\n",
        "\n",
        "Counter = 0\n",
        "\n",
        "for i in s :\n",
        "    Counter += 1\n",
        "\n",
        "print(Counter)"
      ],
      "metadata": {
        "colab": {
          "base_uri": "https://localhost:8080/"
        },
        "id": "sDBjFwzyU0gV",
        "outputId": "4c6a59cb-eda8-449e-c295-06d8079da4d5"
      },
      "execution_count": null,
      "outputs": [
        {
          "output_type": "stream",
          "name": "stdout",
          "text": [
            "Enter string : Jeel\n",
            "4\n"
          ]
        }
      ]
    },
    {
      "cell_type": "code",
      "source": [
        "# Extract username from a given email\n",
        "# Eg if the email is jeelpatel192@gmail.com\n",
        "# then the username should be jeelpatel192\n",
        "\n",
        "s = input('Enter Email : ')\n",
        "\n",
        "pos = s.index('@')\n",
        "print(s[0:pos])\n",
        "\n",
        "# here we use the concept of string slicing "
      ],
      "metadata": {
        "colab": {
          "base_uri": "https://localhost:8080/"
        },
        "id": "IzkUlqKHVIBs",
        "outputId": "65936cdb-112b-4224-97bd-bd514220a052"
      },
      "execution_count": null,
      "outputs": [
        {
          "output_type": "stream",
          "name": "stdout",
          "text": [
            "Enter Email : jeelpatel192@gmail.com\n",
            "jeelpatel192\n"
          ]
        }
      ]
    },
    {
      "cell_type": "code",
      "source": [
        "# Count the frequency of a paricular character in a provided string.\n",
        "# Ed 'hello how are you' is the string, the frequency of h in this string is 2.\n",
        "\n",
        "s = input('Enter String : ')\n",
        "term = input('what would like to search for : ')\n",
        "\n",
        "counter = 0\n",
        "\n",
        "for i in s :\n",
        "    if i == term :\n",
        "        counter += 1\n",
        "\n",
        "print(counter)"
      ],
      "metadata": {
        "colab": {
          "base_uri": "https://localhost:8080/"
        },
        "id": "IhPkdwJ2WfHG",
        "outputId": "a97ef481-cf66-49b6-c68b-f4c71d6d05fa"
      },
      "execution_count": null,
      "outputs": [
        {
          "output_type": "stream",
          "name": "stdout",
          "text": [
            "Enter String : hello how are you\n",
            "what would like to search for : h\n",
            "2\n"
          ]
        }
      ]
    },
    {
      "cell_type": "code",
      "source": [
        "# Write a program which can remove a particular character from a string.\n",
        "\n",
        "s = input('Enter String : ')\n",
        "term = input('what would like to search for : ')\n",
        "\n",
        "result = ''\n",
        "\n",
        "for i in s :\n",
        "    if i != term :\n",
        "        result += i\n",
        "\n",
        "print(result)"
      ],
      "metadata": {
        "colab": {
          "base_uri": "https://localhost:8080/"
        },
        "id": "R0L3rjwcXdAG",
        "outputId": "fbb8524d-67e0-408a-b0b8-aade4cb97b34"
      },
      "execution_count": null,
      "outputs": [
        {
          "output_type": "stream",
          "name": "stdout",
          "text": [
            "Enter String : Good Morning\n",
            "what would like to search for : o\n",
            "Gd Mrning\n"
          ]
        }
      ]
    },
    {
      "cell_type": "code",
      "source": [
        "# Write a program that can check whether a given string is palindrome or not.\n",
        "# abba\n",
        "# malayalam\n",
        "\n",
        "s = input('Enter the string : ')\n",
        "\n",
        "flag = True\n",
        "\n",
        "for i in range(0, len(s)//2) :\n",
        "    if s[i] != s[len(s) - i - 1] :\n",
        "        flag = False\n",
        "        print('Not a palindrome')\n",
        "        break\n",
        "\n",
        "if flag :\n",
        "    print('palindrome')"
      ],
      "metadata": {
        "colab": {
          "base_uri": "https://localhost:8080/"
        },
        "id": "WFH_qyh_X86U",
        "outputId": "3e849843-4f0e-422a-b86d-6fa8c3bd1417"
      },
      "execution_count": null,
      "outputs": [
        {
          "output_type": "stream",
          "name": "stdout",
          "text": [
            "Enter the string : abba\n",
            "palindrome\n"
          ]
        }
      ]
    },
    {
      "cell_type": "code",
      "source": [
        "# Write a program to count the number of words in a string without split()\n",
        "\n",
        "s = input('Enter the string : ')\n",
        "L = []\n",
        "temp = ''\n",
        "\n",
        "for i in s :\n",
        "    if i != ' ' :\n",
        "        temp = temp + i\n",
        "    else :\n",
        "        L.append(temp)\n",
        "        temp = ''\n",
        "\n",
        "L.append(temp)\n",
        "print(L)"
      ],
      "metadata": {
        "colab": {
          "base_uri": "https://localhost:8080/"
        },
        "id": "wcufoE1WYHwN",
        "outputId": "878f038b-c732-48b8-d70d-dee345d281ff"
      },
      "execution_count": null,
      "outputs": [
        {
          "output_type": "stream",
          "name": "stdout",
          "text": [
            "Enter the string : hey good morning\n",
            "['hey', 'good', 'morning']\n"
          ]
        }
      ]
    },
    {
      "cell_type": "code",
      "source": [
        "# Write a python program to convert a string to title case without using the title().\n",
        "\n",
        "s = input('Enter the string : ')\n",
        "\n",
        "L = []\n",
        "\n",
        "for i in s.split() :\n",
        "    #print(i[0].upper() + i[1:].lower())\n",
        "    L.append(i[0].upper() + i[1:].lower())\n",
        "\n",
        "print(\" \".join(L))"
      ],
      "metadata": {
        "colab": {
          "base_uri": "https://localhost:8080/"
        },
        "id": "ndj0d-aGYQQt",
        "outputId": "cfc007bf-e4dc-4466-81a7-820473ae322f"
      },
      "execution_count": null,
      "outputs": [
        {
          "output_type": "stream",
          "name": "stdout",
          "text": [
            "Enter the string : hi my name is jeel patel\n",
            "Hi My Name Is Jeel Patel\n"
          ]
        }
      ]
    },
    {
      "cell_type": "code",
      "source": [
        "# Write a program that can convert an integer to string.\n",
        "\n",
        "s = int(input('Enter an integer : '))\n",
        "\n",
        "x = str(s)\n",
        "\n",
        "print(str(x))\n",
        "type(x)"
      ],
      "metadata": {
        "colab": {
          "base_uri": "https://localhost:8080/"
        },
        "id": "UpLE2XtbYZlK",
        "outputId": "c5ad48b7-0609-41ae-d2bb-f61b98aa5f60"
      },
      "execution_count": null,
      "outputs": [
        {
          "output_type": "stream",
          "name": "stdout",
          "text": [
            "Enter an integer : 123\n",
            "123\n"
          ]
        },
        {
          "output_type": "execute_result",
          "data": {
            "text/plain": [
              "str"
            ]
          },
          "metadata": {},
          "execution_count": 38
        }
      ]
    }
  ]
}